{
 "cells": [
  {
   "cell_type": "markdown",
   "metadata": {},
   "source": [
    "## Bayesian Personalized Rank"
   ]
  },
  {
   "cell_type": "code",
   "execution_count": 17,
   "metadata": {},
   "outputs": [
    {
     "name": "stdout",
     "output_type": "stream",
     "text": [
      "Requirement already satisfied: cornac in /usr/local/lib/python3.6/dist-packages (1.4.1)\n",
      "Requirement already satisfied: pandas in /usr/local/lib/python3.6/dist-packages (1.0.3)\n",
      "Requirement already satisfied: requests in /usr/local/lib/python3.6/dist-packages (2.23.0)\n",
      "Requirement already satisfied: sklearn in /usr/local/lib/python3.6/dist-packages (0.0)\n",
      "Requirement already satisfied: tqdm>=4.19 in /usr/local/lib/python3.6/dist-packages (from cornac) (4.43.0)\n",
      "Requirement already satisfied: numpy in /usr/local/lib/python3.6/dist-packages (from cornac) (1.17.2)\n",
      "Requirement already satisfied: scipy in /usr/local/lib/python3.6/dist-packages (from cornac) (1.4.1)\n",
      "Requirement already satisfied: pytz>=2017.2 in /usr/local/lib/python3.6/dist-packages (from pandas) (2019.3)\n",
      "Requirement already satisfied: python-dateutil>=2.6.1 in /usr/local/lib/python3.6/dist-packages (from pandas) (2.8.0)\n",
      "Requirement already satisfied: certifi>=2017.4.17 in /usr/local/lib/python3.6/dist-packages (from requests) (2019.11.28)\n",
      "Requirement already satisfied: chardet<4,>=3.0.2 in /usr/local/lib/python3.6/dist-packages (from requests) (3.0.4)\n",
      "Requirement already satisfied: urllib3!=1.25.0,!=1.25.1,<1.26,>=1.21.1 in /usr/local/lib/python3.6/dist-packages (from requests) (1.25.8)\n",
      "Requirement already satisfied: idna<3,>=2.5 in /usr/lib/python3/dist-packages (from requests) (2.6)\n",
      "Requirement already satisfied: scikit-learn in /usr/local/lib/python3.6/dist-packages (from sklearn) (0.22.2.post1)\n",
      "Requirement already satisfied: six>=1.5 in /usr/lib/python3/dist-packages (from python-dateutil>=2.6.1->pandas) (1.11.0)\n",
      "Requirement already satisfied: joblib>=0.11 in /usr/local/lib/python3.6/dist-packages (from scikit-learn->sklearn) (0.14.1)\n",
      "\u001b[33mWARNING: You are using pip version 19.2.3, however version 20.0.2 is available.\n",
      "You should consider upgrading via the 'pip install --upgrade pip' command.\u001b[0m\n"
     ]
    }
   ],
   "source": [
    "!pip install cornac pandas requests sklearn"
   ]
  },
  {
   "cell_type": "code",
   "execution_count": 18,
   "metadata": {},
   "outputs": [],
   "source": [
    "import sys\n",
    "import os\n",
    "import cornac\n",
    "import pandas as pd\n",
    "import numpy as np\n",
    "import pandas as pd\n",
    "from tqdm import tqdm\n",
    "\n",
    "from reco_utils.dataset import movielens\n",
    "from reco_utils.dataset.python_splitters import python_random_split\n",
    "from reco_utils.evaluation.python_evaluation import map_at_k, ndcg_at_k, precision_at_k, recall_at_k\n",
    "from reco_utils.recommender.cornac.cornac_utils import predict_ranking\n",
    "from reco_utils.common.timer import Timer\n",
    "from reco_utils.common.constants import SEED"
   ]
  },
  {
   "cell_type": "code",
   "execution_count": 19,
   "metadata": {},
   "outputs": [],
   "source": [
    "class BPR:\n",
    "    def __init__(self):\n",
    "        self.bpr = cornac.models.BPR(k=200,\n",
    "                                     max_iter=100,\n",
    "                                     learning_rate=0.01,\n",
    "                                     lambda_reg=0.001,\n",
    "                                     verbose=True,\n",
    "                                     seed=SEED)\n",
    "        self.all_predictions=None\n",
    "\n",
    "    def fit(self, train):\n",
    "        self.all_predictions=None\n",
    "        train_set = cornac.data.Dataset.from_uir(train.itertuples(index=False), seed=SEED)\n",
    "        print('Number of users: {}'.format(train_set.num_users))\n",
    "        print('Number of items: {}'.format(train_set.num_items))\n",
    "\n",
    "        with Timer() as t:\n",
    "            self.bpr.fit(train_set)\n",
    "        print(\"Took {} seconds for training.\".format(t))\n",
    "\n",
    "    def get_pred(self,row):\n",
    "        list_pred=self.all_predictions [(self.all_predictions.userID==row[0]) & (self.all_predictions.itemID==row[1])][\"prediction\"].tolist()\n",
    "        return list_pred[0] if list_pred else 0 #maybe -10 ??\n",
    "        \n",
    "    def predict(self, feed_dict):\n",
    "        #print('users', feed_dict[\"user_id\"])\n",
    "        #print('items', feed_dict[\"item_id\"])\n",
    "        users = feed_dict[\"user_id\"]\n",
    "        user = users[0]\n",
    "        items = feed_dict[\"item_id\"]\n",
    "        if self.all_predictions is None:\n",
    "            with Timer() as t:\n",
    "                self.all_predictions = predict_ranking(self.bpr, None, usercol='userID', itemcol='itemID', remove_seen=False)\n",
    "            print(\"Took {} seconds for prediction.\".format(t))\n",
    "        df = pd.DataFrame(np.transpose(np.vstack((users,items))))\n",
    "        df['prediction'] = df.apply (lambda row: self.get_pred(row), axis=1)\n",
    "        return df['prediction'].tolist()"
   ]
  },
  {
   "cell_type": "markdown",
   "metadata": {},
   "source": [
    "## Leave one out"
   ]
  },
  {
   "cell_type": "code",
   "execution_count": 20,
   "metadata": {},
   "outputs": [],
   "source": [
    "def model_test(model, file_name):\n",
    "    COLS = ['userID', 'itemID', 'rating', 'timestamp']\n",
    "    train_data = pd.read_csv(\"Data/movielens.train_explicit_ds\",sep='\\t', names=COLS)\n",
    "\n",
    "    model.fit(train_data)\n",
    "\n",
    "    test_items = np.load('Data/test_items.npy', allow_pickle=True)\n",
    "    test_users = np.load('Data/test_users.npy', allow_pickle=True)\n",
    "    predictions = []\n",
    "    for users, items in tqdm(zip(test_users, test_items)):\n",
    "        feed_dict={'user_id': users, 'item_id': items}\n",
    "        p = model.predict(feed_dict)\n",
    "        #print(len(items),len(p))\n",
    "        predictions.append(p)\n",
    "    \n",
    "    np.save('Predictions/'+file_name, predictions)"
   ]
  },
  {
   "cell_type": "code",
   "execution_count": 21,
   "metadata": {
    "scrolled": false
   },
   "outputs": [
    {
     "name": "stderr",
     "output_type": "stream",
     "text": [
      "  2%|▏         | 2/100 [00:00<00:05, 17.56it/s, correct=85.39%, skipped=12.05%]"
     ]
    },
    {
     "name": "stdout",
     "output_type": "stream",
     "text": [
      "Number of users: 943\n",
      "Number of items: 1680\n"
     ]
    },
    {
     "name": "stderr",
     "output_type": "stream",
     "text": [
      "100%|██████████| 100/100 [00:05<00:00, 16.81it/s, correct=94.07%, skipped=12.14%]\n",
      "0it [00:00, ?it/s]"
     ]
    },
    {
     "name": "stdout",
     "output_type": "stream",
     "text": [
      "Optimization finished!\n",
      "Took 5.9600 seconds for training.\n",
      "Took 1.2552 seconds for prediction.\n"
     ]
    },
    {
     "name": "stderr",
     "output_type": "stream",
     "text": [
      "943it [04:10,  3.76it/s]\n"
     ]
    }
   ],
   "source": [
    "model_test(BPR(), 'bpr')"
   ]
  },
  {
   "cell_type": "code",
   "execution_count": 22,
   "metadata": {},
   "outputs": [
    {
     "data": {
      "text/plain": [
       "array([[-0.84978002, -0.57607543, -0.14493404, ..., -0.08240199,\n",
       "         2.49868298, -0.92150867],\n",
       "       [-1.4156729 , -1.05214524, -3.02378964, ...,  2.19568563,\n",
       "        -0.5386427 ,  2.92233276],\n",
       "       [-2.21766901, -3.32058573, -1.09007227, ..., -2.77728033,\n",
       "        -3.12943149,  3.42444611],\n",
       "       ...,\n",
       "       [-2.08446383,  1.6115917 ,  0.34003991, ...,  1.31036294,\n",
       "         0.7359587 ,  3.52911282],\n",
       "       [-1.66564274, -0.5490877 , -2.31219816, ..., -2.00165796,\n",
       "        -1.9971993 ,  1.52274096],\n",
       "       [-1.49695039, -3.22197604, -0.52941251, ...,  0.54471171,\n",
       "         2.39169216,  5.49815607]])"
      ]
     },
     "execution_count": 22,
     "metadata": {},
     "output_type": "execute_result"
    }
   ],
   "source": [
    "np.load('Predictions/'+'bpr.npy')"
   ]
  },
  {
   "cell_type": "code",
   "execution_count": null,
   "metadata": {},
   "outputs": [],
   "source": []
  }
 ],
 "metadata": {
  "celltoolbar": "Tags",
  "kernelspec": {
   "display_name": "Python 3",
   "language": "python",
   "name": "python3"
  },
  "language_info": {
   "codemirror_mode": {
    "name": "ipython",
    "version": 3
   },
   "file_extension": ".py",
   "mimetype": "text/x-python",
   "name": "python",
   "nbconvert_exporter": "python",
   "pygments_lexer": "ipython3",
   "version": "3.6.8"
  }
 },
 "nbformat": 4,
 "nbformat_minor": 2
}
