{
 "cells": [
  {
   "cell_type": "markdown",
   "metadata": {},
   "source": [
    "## Bayesian Personalized Rank"
   ]
  },
  {
   "cell_type": "code",
   "execution_count": 5,
   "metadata": {},
   "outputs": [
    {
     "name": "stdout",
     "output_type": "stream",
     "text": [
      "Requirement already satisfied: cornac in /usr/local/lib/python3.6/dist-packages (1.4.1)\n",
      "Requirement already satisfied: pandas in /usr/local/lib/python3.6/dist-packages (1.0.3)\n",
      "Requirement already satisfied: requests in /usr/local/lib/python3.6/dist-packages (2.23.0)\n",
      "Requirement already satisfied: sklearn in /usr/local/lib/python3.6/dist-packages (0.0)\n",
      "Requirement already satisfied: scipy in /usr/local/lib/python3.6/dist-packages (from cornac) (1.4.1)\n",
      "Requirement already satisfied: tqdm>=4.19 in /usr/local/lib/python3.6/dist-packages (from cornac) (4.43.0)\n",
      "Requirement already satisfied: numpy in /usr/local/lib/python3.6/dist-packages (from cornac) (1.18.1)\n",
      "Requirement already satisfied: pytz>=2017.2 in /usr/local/lib/python3.6/dist-packages (from pandas) (2019.3)\n",
      "Requirement already satisfied: python-dateutil>=2.6.1 in /usr/local/lib/python3.6/dist-packages (from pandas) (2.8.1)\n",
      "Requirement already satisfied: idna<3,>=2.5 in /usr/lib/python3/dist-packages (from requests) (2.6)\n",
      "Requirement already satisfied: urllib3!=1.25.0,!=1.25.1,<1.26,>=1.21.1 in /usr/local/lib/python3.6/dist-packages (from requests) (1.25.8)\n",
      "Requirement already satisfied: certifi>=2017.4.17 in /usr/local/lib/python3.6/dist-packages (from requests) (2019.11.28)\n",
      "Requirement already satisfied: chardet<4,>=3.0.2 in /usr/local/lib/python3.6/dist-packages (from requests) (3.0.4)\n",
      "Requirement already satisfied: scikit-learn in /usr/local/lib/python3.6/dist-packages (from sklearn) (0.22.2.post1)\n",
      "Requirement already satisfied: six>=1.5 in /usr/lib/python3/dist-packages (from python-dateutil>=2.6.1->pandas) (1.11.0)\n",
      "Requirement already satisfied: joblib>=0.11 in /usr/local/lib/python3.6/dist-packages (from scikit-learn->sklearn) (0.14.1)\n",
      "\u001b[33mWARNING: You are using pip version 19.3.1; however, version 20.0.2 is available.\n",
      "You should consider upgrading via the 'pip install --upgrade pip' command.\u001b[0m\n"
     ]
    }
   ],
   "source": [
    "!pip install cornac pandas requests sklearn"
   ]
  },
  {
   "cell_type": "code",
   "execution_count": 6,
   "metadata": {},
   "outputs": [],
   "source": [
    "import sys\n",
    "import os\n",
    "import cornac\n",
    "import pandas as pd\n",
    "import numpy as np\n",
    "import pandas as pd\n",
    "\n",
    "from reco_utils.dataset import movielens\n",
    "from reco_utils.dataset.python_splitters import python_random_split\n",
    "from reco_utils.evaluation.python_evaluation import map_at_k, ndcg_at_k, precision_at_k, recall_at_k\n",
    "from reco_utils.recommender.cornac.cornac_utils import predict_ranking\n",
    "from reco_utils.common.timer import Timer\n",
    "from reco_utils.common.constants import SEED"
   ]
  },
  {
   "cell_type": "code",
   "execution_count": 7,
   "metadata": {},
   "outputs": [],
   "source": [
    "class BPR:\n",
    "    def __init__(self):\n",
    "        self.bpr = cornac.models.BPR(k=200,\n",
    "                                     max_iter=100,\n",
    "                                     learning_rate=0.01,\n",
    "                                     lambda_reg=0.001,\n",
    "                                     verbose=True,\n",
    "                                     seed=SEED)\n",
    "\n",
    "    def fit(self, train):\n",
    "        train_set = cornac.data.Dataset.from_uir(train.itertuples(index=False), seed=SEED)\n",
    "        print('Number of users: {}'.format(train_set.num_users))\n",
    "        print('Number of items: {}'.format(train_set.num_items))\n",
    "\n",
    "        with Timer() as t:\n",
    "            self.bpr.fit(train_set)\n",
    "        print(\"Took {} seconds for training.\".format(t))\n",
    "\n",
    "    def predict(self, feed_dict):\n",
    "        user = feed_dict[\"user_id\"][0]\n",
    "        items = feed_dict[\"item_id\"]\n",
    "        with Timer() as t:\n",
    "            all_predictions = predict_ranking(self.bpr, None, usercol='userID', itemcol='itemID', remove_seen=False)\n",
    "        print(\"Took {} seconds for prediction.\".format(t))\n",
    "        return all_predictions [all_predictions.userID==user & all_predictions.itemID.isin(items)]"
   ]
  },
  {
   "cell_type": "markdown",
   "metadata": {},
   "source": [
    "## Example of use"
   ]
  },
  {
   "cell_type": "code",
   "execution_count": 8,
   "metadata": {},
   "outputs": [
    {
     "name": "stderr",
     "output_type": "stream",
     "text": [
      "100%|██████████| 4.81k/4.81k [00:02<00:00, 1.76kKB/s]\n",
      "  3%|▎         | 3/100 [00:00<00:04, 21.57it/s, correct=83.84%, skipped=9.20%]"
     ]
    },
    {
     "name": "stdout",
     "output_type": "stream",
     "text": [
      "Number of users: 943\n",
      "Number of items: 1642\n"
     ]
    },
    {
     "name": "stderr",
     "output_type": "stream",
     "text": [
      "100%|██████████| 100/100 [00:04<00:00, 21.35it/s, correct=92.09%, skipped=9.09%]\n"
     ]
    },
    {
     "name": "stdout",
     "output_type": "stream",
     "text": [
      "Optimization finished!\n",
      "Took 4.6931 seconds for training.\n",
      "Took 1.1474 seconds for prediction.\n"
     ]
    },
    {
     "data": {
      "text/html": [
       "<div>\n",
       "<style scoped>\n",
       "    .dataframe tbody tr th:only-of-type {\n",
       "        vertical-align: middle;\n",
       "    }\n",
       "\n",
       "    .dataframe tbody tr th {\n",
       "        vertical-align: top;\n",
       "    }\n",
       "\n",
       "    .dataframe thead th {\n",
       "        text-align: right;\n",
       "    }\n",
       "</style>\n",
       "<table border=\"1\" class=\"dataframe\">\n",
       "  <thead>\n",
       "    <tr style=\"text-align: right;\">\n",
       "      <th></th>\n",
       "      <th>userID</th>\n",
       "      <th>itemID</th>\n",
       "      <th>prediction</th>\n",
       "    </tr>\n",
       "  </thead>\n",
       "  <tbody>\n",
       "    <tr>\n",
       "      <th>765172</th>\n",
       "      <td>1</td>\n",
       "      <td>901</td>\n",
       "      <td>-2.011520</td>\n",
       "    </tr>\n",
       "    <tr>\n",
       "      <th>765173</th>\n",
       "      <td>1</td>\n",
       "      <td>755</td>\n",
       "      <td>0.335445</td>\n",
       "    </tr>\n",
       "    <tr>\n",
       "      <th>765174</th>\n",
       "      <td>1</td>\n",
       "      <td>287</td>\n",
       "      <td>0.511043</td>\n",
       "    </tr>\n",
       "    <tr>\n",
       "      <th>765175</th>\n",
       "      <td>1</td>\n",
       "      <td>181</td>\n",
       "      <td>4.115204</td>\n",
       "    </tr>\n",
       "    <tr>\n",
       "      <th>765176</th>\n",
       "      <td>1</td>\n",
       "      <td>96</td>\n",
       "      <td>3.755646</td>\n",
       "    </tr>\n",
       "    <tr>\n",
       "      <th>765177</th>\n",
       "      <td>1</td>\n",
       "      <td>83</td>\n",
       "      <td>2.446390</td>\n",
       "    </tr>\n",
       "    <tr>\n",
       "      <th>765178</th>\n",
       "      <td>1</td>\n",
       "      <td>1</td>\n",
       "      <td>3.917794</td>\n",
       "    </tr>\n",
       "    <tr>\n",
       "      <th>765179</th>\n",
       "      <td>1</td>\n",
       "      <td>225</td>\n",
       "      <td>1.146336</td>\n",
       "    </tr>\n",
       "    <tr>\n",
       "      <th>765180</th>\n",
       "      <td>1</td>\n",
       "      <td>199</td>\n",
       "      <td>1.685099</td>\n",
       "    </tr>\n",
       "    <tr>\n",
       "      <th>765181</th>\n",
       "      <td>1</td>\n",
       "      <td>24</td>\n",
       "      <td>3.081897</td>\n",
       "    </tr>\n",
       "    <tr>\n",
       "      <th>765182</th>\n",
       "      <td>1</td>\n",
       "      <td>632</td>\n",
       "      <td>0.624080</td>\n",
       "    </tr>\n",
       "    <tr>\n",
       "      <th>765183</th>\n",
       "      <td>1</td>\n",
       "      <td>321</td>\n",
       "      <td>0.904416</td>\n",
       "    </tr>\n",
       "    <tr>\n",
       "      <th>765184</th>\n",
       "      <td>1</td>\n",
       "      <td>272</td>\n",
       "      <td>1.305338</td>\n",
       "    </tr>\n",
       "    <tr>\n",
       "      <th>765185</th>\n",
       "      <td>1</td>\n",
       "      <td>544</td>\n",
       "      <td>1.517288</td>\n",
       "    </tr>\n",
       "  </tbody>\n",
       "</table>\n",
       "</div>"
      ],
      "text/plain": [
       "        userID  itemID  prediction\n",
       "765172       1     901   -2.011520\n",
       "765173       1     755    0.335445\n",
       "765174       1     287    0.511043\n",
       "765175       1     181    4.115204\n",
       "765176       1      96    3.755646\n",
       "765177       1      83    2.446390\n",
       "765178       1       1    3.917794\n",
       "765179       1     225    1.146336\n",
       "765180       1     199    1.685099\n",
       "765181       1      24    3.081897\n",
       "765182       1     632    0.624080\n",
       "765183       1     321    0.904416\n",
       "765184       1     272    1.305338\n",
       "765185       1     544    1.517288"
      ]
     },
     "execution_count": 8,
     "metadata": {},
     "output_type": "execute_result"
    }
   ],
   "source": [
    "data = movielens.load_pandas_df(\n",
    "    size=\"100k\", #100k, 1m, 10m, or 20m\n",
    "    header=[\"userID\", \"itemID\", \"rating\"]\n",
    ")\n",
    "\n",
    "train, test = python_random_split(data, 0.75)\n",
    "\n",
    "feed_dict = {\n",
    "        'user_id': np.full(10, 153),\n",
    "        'item_id': train[\"itemID\"][:15].to_numpy(),\n",
    "    }\n",
    "\n",
    "model = BPR()\n",
    "model.fit(train) # train is pd.DataFrame with columns: userID, itemID, rating\n",
    "model.predict(feed_dict) # feed_dict as in Dawid's model evaluation"
   ]
  }
 ],
 "metadata": {
  "celltoolbar": "Tags",
  "kernelspec": {
   "display_name": "Python 3",
   "language": "python",
   "name": "python3"
  },
  "language_info": {
   "codemirror_mode": {
    "name": "ipython",
    "version": 3
   },
   "file_extension": ".py",
   "mimetype": "text/x-python",
   "name": "python",
   "nbconvert_exporter": "python",
   "pygments_lexer": "ipython3",
   "version": "3.6.9"
  }
 },
 "nbformat": 4,
 "nbformat_minor": 2
}
