{
 "cells": [
  {
   "cell_type": "code",
   "execution_count": 1,
   "metadata": {},
   "outputs": [],
   "source": [
    "import pandas as pd\n",
    "import numpy as np\n",
    "from Dataset import MovieLensDataset"
   ]
  },
  {
   "cell_type": "code",
   "execution_count": 2,
   "metadata": {},
   "outputs": [],
   "source": [
    "INPUT_PATH = 'Data/u.data'\n",
    "\n",
    "OUTPUT_PATH_TRAIN_EXP = 'Data/movielens.train_explicit_ds'\n",
    "OUTPUT_PATH_TEST_EXP = 'Data/movielens.test_explicit_ds'\n",
    "OUTPUT_PATH_TRAIN_IMP = 'Data/movielens.train_implicit_ds'\n",
    "OUTPUT_PATH_TEST_IMP = 'Data/movielens.test_implicit_ds'\n",
    "OUTPUT_PATH_TEST_USER_DATA = 'Data/test_users'\n",
    "OUTPUT_PATH_TEST_ITEM_DATA = 'Data/test_items'\n",
    "USER_FIELD = 'userID'"
   ]
  },
  {
   "cell_type": "code",
   "execution_count": 3,
   "metadata": {},
   "outputs": [],
   "source": [
    "def get_train_test_df(transactions):\n",
    "    print(\"Size of the entire dataset:{}\".format(transactions.shape))\n",
    "    transactions.sort_values(by = ['timestamp'], inplace = True)\n",
    "    last_transaction_mask = transactions.duplicated(subset = {USER_FIELD}, keep = \"last\")\n",
    "    \n",
    "    train_df = transactions[last_transaction_mask]\n",
    "    test_df = transactions[~last_transaction_mask]\n",
    "    \n",
    "    train_df.sort_values(by=[\"userID\", 'timestamp'], inplace = True)\n",
    "    test_df.sort_values(by=[\"userID\", 'timestamp'], inplace = True)\n",
    "    return train_df, test_df"
   ]
  },
  {
   "cell_type": "code",
   "execution_count": 4,
   "metadata": {},
   "outputs": [],
   "source": [
    "def report_stats(transactions, train_df, test_df):\n",
    "    whole_size = transactions.shape[0]*1.0\n",
    "    train_size = train_df.shape[0]\n",
    "    test_size = test_df.shape[0]\n",
    "    print(\"Total No. of Records = {}\".format(whole_size))\n",
    "    print(\"Train size = {}, Test size = {}\".format(train_size, test_size))\n",
    "    print(\"Train % = {}, Test % ={}\".format(train_size/whole_size, test_size/whole_size))"
   ]
  },
  {
   "cell_type": "code",
   "execution_count": 5,
   "metadata": {},
   "outputs": [],
   "source": [
    "def save_to_csv(df,path, sep = '\\t'):\n",
    "    df.to_csv(path, header = False, index = False, sep = sep)"
   ]
  },
  {
   "cell_type": "code",
   "execution_count": 6,
   "metadata": {},
   "outputs": [],
   "source": [
    "def split():\n",
    "    transactions = pd.read_csv(INPUT_PATH, sep=\"\\t\", names = ['userID', 'movieID', 'rating', 'timestamp'], engine = 'python')\n",
    "    \n",
    "    train_df, test_df = get_train_test_df(transactions)\n",
    "    report_stats(transactions, train_df, test_df)\n",
    "    return train_df, test_df"
   ]
  },
  {
   "cell_type": "code",
   "execution_count": 7,
   "metadata": {},
   "outputs": [],
   "source": [
    "def save_train_test_split():\n",
    "    train_df, test_df = split()\n",
    "    save_to_csv(train_df, OUTPUT_PATH_TRAIN_EXP)\n",
    "    save_to_csv(test_df, OUTPUT_PATH_TEST_EXP)\n",
    "\n",
    "    train_df['rating'] = 1\n",
    "    test_df['rating'] = 1\n",
    "    save_to_csv(train_df, OUTPUT_PATH_TRAIN_IMP)\n",
    "    save_to_csv(test_df, OUTPUT_PATH_TEST_IMP)"
   ]
  },
  {
   "cell_type": "code",
   "execution_count": 8,
   "metadata": {},
   "outputs": [],
   "source": [
    "def load_rating_file_as_list(filename):\n",
    "    ratingList = []\n",
    "    with open(filename, \"r\") as f:\n",
    "        line = f.readline()\n",
    "        while line != None and line != \"\":\n",
    "            arr = line.split(\"\\t\")\n",
    "            user, item = int(arr[0]), int(arr[1])\n",
    "            ratingList.append([user, item])\n",
    "            line = f.readline()\n",
    "    return ratingList"
   ]
  },
  {
   "cell_type": "code",
   "execution_count": 9,
   "metadata": {},
   "outputs": [],
   "source": [
    "def create_negative_file(test_ratings, train_ratings, num_items, num_samples=100):\n",
    "    negativeList = []\n",
    "    for user_item_pair in test_ratings:\n",
    "        user = user_item_pair[0]\n",
    "        item = user_item_pair[1]\n",
    "        negatives = []\n",
    "        for t in range(num_samples):\n",
    "            j = np.random.randint(1, num_items)\n",
    "            while [user, j] in train_ratings or j == item:\n",
    "                j = np.random.randint(1, num_items)\n",
    "            negatives.append(j)\n",
    "        negativeList.append(negatives)\n",
    "    return negativeList"
   ]
  },
  {
   "cell_type": "code",
   "execution_count": 10,
   "metadata": {},
   "outputs": [],
   "source": [
    "def save_test_data():\n",
    "    num_negatives_test = 100\n",
    "    train_ratings = load_rating_file_as_list(OUTPUT_PATH_TRAIN_IMP)\n",
    "    num_items = max([rating[1] for rating in train_ratings])\n",
    "\n",
    "    test_ratings = load_rating_file_as_list(OUTPUT_PATH_TEST_IMP)\n",
    "    test_negatives = create_negative_file(test_ratings, train_ratings, num_items, num_negatives_test)\n",
    "    \n",
    "    test_items = [negatives + [rating[1]] for rating, negatives in zip(test_ratings, test_negatives)]\n",
    "    test_users = [np.full(len(items), rating[0], dtype='int32') for rating, items in zip(test_ratings, test_items)]\n",
    "    test_items = np.array(test_items)\n",
    "    test_users = np.array(test_users)\n",
    "    np.save(OUTPUT_PATH_TEST_ITEM_DATA, test_items)\n",
    "    np.save(OUTPUT_PATH_TEST_USER_DATA, test_users)"
   ]
  },
  {
   "cell_type": "code",
   "execution_count": 11,
   "metadata": {},
   "outputs": [
    {
     "name": "stdout",
     "output_type": "stream",
     "text": [
      "Size of the entire dataset:(100000, 4)\n",
      "Total No. of Records = 100000.0\n",
      "Train size = 99057, Test size = 943\n",
      "Train % = 0.99057, Test % =0.00943\n"
     ]
    },
    {
     "name": "stderr",
     "output_type": "stream",
     "text": [
      "/home/dawid/venv/semester_3/lib/python3.6/site-packages/ipykernel_launcher.py:9: SettingWithCopyWarning: \n",
      "A value is trying to be set on a copy of a slice from a DataFrame\n",
      "\n",
      "See the caveats in the documentation: https://pandas.pydata.org/pandas-docs/stable/user_guide/indexing.html#returning-a-view-versus-a-copy\n",
      "  if __name__ == '__main__':\n",
      "/home/dawid/venv/semester_3/lib/python3.6/site-packages/ipykernel_launcher.py:10: SettingWithCopyWarning: \n",
      "A value is trying to be set on a copy of a slice from a DataFrame\n",
      "\n",
      "See the caveats in the documentation: https://pandas.pydata.org/pandas-docs/stable/user_guide/indexing.html#returning-a-view-versus-a-copy\n",
      "  # Remove the CWD from sys.path while we load stuff.\n"
     ]
    }
   ],
   "source": [
    "save_train_test_split()\n",
    "save_test_data()"
   ]
  },
  {
   "cell_type": "code",
   "execution_count": null,
   "metadata": {},
   "outputs": [],
   "source": []
  }
 ],
 "metadata": {
  "kernelspec": {
   "display_name": "semester_3",
   "language": "python",
   "name": "semester_3"
  },
  "language_info": {
   "codemirror_mode": {
    "name": "ipython",
    "version": 3
   },
   "file_extension": ".py",
   "mimetype": "text/x-python",
   "name": "python",
   "nbconvert_exporter": "python",
   "pygments_lexer": "ipython3",
   "version": "3.6.9"
  }
 },
 "nbformat": 4,
 "nbformat_minor": 2
}
