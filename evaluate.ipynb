{
 "cells": [
  {
   "cell_type": "code",
   "execution_count": 2,
   "metadata": {},
   "outputs": [],
   "source": [
    "import math\n",
    "import heapq\n",
    "import numpy as np"
   ]
  },
  {
   "cell_type": "code",
   "execution_count": 3,
   "metadata": {},
   "outputs": [],
   "source": [
    "test_items = np.load('Data/test_items.npy', allow_pickle=True)\n",
    "test_users = np.load('Data/test_users.npy', allow_pickle=True)\n",
    "topK = 10"
   ]
  },
  {
   "cell_type": "code",
   "execution_count": 4,
   "metadata": {},
   "outputs": [],
   "source": [
    "def getNDCG(ranklist, gtItem):\n",
    "    for i in range(len(ranklist)):\n",
    "        item = ranklist[i]\n",
    "        if item == gtItem:\n",
    "            return math.log(2) / math.log(i+2)\n",
    "    return 0"
   ]
  },
  {
   "cell_type": "code",
   "execution_count": 5,
   "metadata": {},
   "outputs": [],
   "source": [
    "def getHitRatio(ranklist, gtItem):\n",
    "    for item in ranklist:\n",
    "        if item == gtItem:\n",
    "            return 1\n",
    "    return 0"
   ]
  },
  {
   "cell_type": "code",
   "execution_count": 6,
   "metadata": {},
   "outputs": [],
   "source": [
    "def eval_one_rating(idx, model_predictions):\n",
    "    user = test_users[idx][0]\n",
    "    items = test_items[idx]\n",
    "    predictions = model_predictions[idx]\n",
    "    gtItem = items[-1]\n",
    "    \n",
    "    map_item_score = {}\n",
    "    \n",
    "    for i in range(len(items)):\n",
    "        item = items[i]\n",
    "        map_item_score[item] = predictions[i]\n",
    "\n",
    "    # Evaluate top rank list\n",
    "    ranklist = heapq.nlargest(topK, map_item_score, key=map_item_score.get)\n",
    "    hr = getHitRatio(ranklist, gtItem)\n",
    "    ndcg = getNDCG(ranklist, gtItem)\n",
    "    return (hr, ndcg)"
   ]
  },
  {
   "cell_type": "code",
   "execution_count": 7,
   "metadata": {},
   "outputs": [],
   "source": [
    "def evaluate_model(model_predictions):\n",
    "    hits, ndcgs = [], []\n",
    "    for idx in range(len(test_items)):\n",
    "        (hr, ndcg) = eval_one_rating(idx, model_predictions)\n",
    "        hits.append(hr)\n",
    "        ndcgs.append(ndcg)\n",
    "    \n",
    "    hr, ndcg = np.array(hits).mean(), np.array(ndcgs).mean()\n",
    "    print('Eval: HR = %.4f, NDCG = %.4f' % (hr, ndcg))\n",
    "    return hr, ndcg"
   ]
  },
  {
   "cell_type": "code",
   "execution_count": 15,
   "metadata": {},
   "outputs": [
    {
     "name": "stdout",
     "output_type": "stream",
     "text": [
      "Eval: HR = 0.5705, NDCG = 0.3107\n"
     ]
    },
    {
     "data": {
      "text/plain": [
       "(0.5705196182396607, 0.31070297061217683)"
      ]
     },
     "execution_count": 15,
     "metadata": {},
     "output_type": "execute_result"
    }
   ],
   "source": [
    "model_predictions = np.load('Predictions/mlp.npy', allow_pickle=True)\n",
    "evaluate_model(model_predictions)"
   ]
  },
  {
   "cell_type": "code",
   "execution_count": 8,
   "metadata": {},
   "outputs": [
    {
     "name": "stdout",
     "output_type": "stream",
     "text": [
      "Eval: HR = 0.1962, NDCG = 0.1008\n"
     ]
    },
    {
     "data": {
      "text/plain": [
       "(0.19618239660657477, 0.10077311188637267)"
      ]
     },
     "execution_count": 8,
     "metadata": {},
     "output_type": "execute_result"
    }
   ],
   "source": [
    "model_predictions = np.load('Predictions/seq_i.npy', allow_pickle=True)\n",
    "evaluate_model(model_predictions)"
   ]
  },
  {
   "cell_type": "code",
   "execution_count": 9,
   "metadata": {},
   "outputs": [
    {
     "name": "stdout",
     "output_type": "stream",
     "text": [
      "Eval: HR = 0.1845, NDCG = 0.0928\n"
     ]
    },
    {
     "data": {
      "text/plain": [
       "(0.18451749734888653, 0.0928493924719518)"
      ]
     },
     "execution_count": 9,
     "metadata": {},
     "output_type": "execute_result"
    }
   ],
   "source": [
    "model_predictions = np.load('Predictions/seq_iu.npy', allow_pickle=True)\n",
    "evaluate_model(model_predictions)"
   ]
  },
  {
   "cell_type": "code",
   "execution_count": null,
   "metadata": {},
   "outputs": [],
   "source": []
  }
 ],
 "metadata": {
  "kernelspec": {
   "display_name": "semester_3",
   "language": "python",
   "name": "semester_3"
  },
  "language_info": {
   "codemirror_mode": {
    "name": "ipython",
    "version": 3
   },
   "file_extension": ".py",
   "mimetype": "text/x-python",
   "name": "python",
   "nbconvert_exporter": "python",
   "pygments_lexer": "ipython3",
   "version": "3.6.9"
  }
 },
 "nbformat": 4,
 "nbformat_minor": 2
}
